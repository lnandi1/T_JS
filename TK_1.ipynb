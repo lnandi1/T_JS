{
 "cells": [
  {
   "cell_type": "code",
   "execution_count": 2,
   "metadata": {},
   "outputs": [],
   "source": [
    "import random\n",
    "import csv"
   ]
  },
  {
   "cell_type": "code",
   "execution_count": 3,
   "metadata": {},
   "outputs": [],
   "source": [
    "# Code to Validate User\n",
    "def Validate_User():\n",
    "    User_details = {\n",
    "      'Anna':'Chocolate',\n",
    "      'Jane':'Banana',\n",
    "      'Emma':'Apples'\n",
    "      }\n",
    "\n",
    "\n",
    "#    print(\"\\nDebug\")\n",
    "#    print(\"\\nChecking User Details are correctly read\")\n",
    "#    print(User_details)             # Debug - Checking User Details\n",
    "\n",
    "    Active = True\n",
    "    while Active == True:\n",
    "        Firstname = input(\"Enter your First name \")\n",
    "        Surname = input(\"Enter your Surname \")\n",
    "        print(\"Firstname \", Firstname)\n",
    "        print(\"Surname \", Surname)\n",
    "        for key,value in User_details.items():\n",
    "          if Firstname == key and Surname == value:\n",
    "            Active = False\n",
    "        else:\n",
    "            print(\"Try again with valid User Details\")\n",
    "    print(\"Well Done. User Details Authenticated\")\n",
    "    return Firstname, Surname"
   ]
  },
  {
   "cell_type": "code",
   "execution_count": 4,
   "metadata": {},
   "outputs": [
    {
     "name": "stdin",
     "output_type": "stream",
     "text": [
      "Enter your First name  Jane \n",
      "Enter your Surname  Banana\n"
     ]
    },
    {
     "name": "stdout",
     "output_type": "stream",
     "text": [
      "Firstname  Jane \n",
      "Surname  Banana\n",
      "Try again with valid User Details\n"
     ]
    },
    {
     "name": "stdin",
     "output_type": "stream",
     "text": [
      "Enter your First name  Jane\n",
      "Enter your Surname  Banana\n"
     ]
    },
    {
     "name": "stdout",
     "output_type": "stream",
     "text": [
      "Firstname  Jane\n",
      "Surname  Banana\n",
      "Try again with valid User Details\n",
      "Well Done. User Details Authenticated\n",
      "\n",
      "Debug\n",
      "First name  Jane Surname  Banana\n"
     ]
    }
   ],
   "source": [
    "### Calling Validate_User()\n",
    "# Calling Functions\n",
    "Fname, Sname = Validate_User()\n",
    "print(\"\\nDebug\")\n",
    "print(\"First name \", Fname, \"Surname \", Sname)\n"
   ]
  },
  {
   "cell_type": "code",
   "execution_count": 5,
   "metadata": {},
   "outputs": [],
   "source": [
    "# Code to Create File (csv format) with Artist and Songname\n",
    "def Create_file():\n",
    "    csvData = [['Artist', 'Song'],\n",
    "           ['Joy', 'Work is Worship'],\n",
    "           ['Plato', 'A good decision is based on knowledge'],\n",
    "           ['Shakespeare', 'To be or not to be']]\n",
    "\n",
    "    with open('Singing.csv', 'w',newline='') as csvFile:\n",
    "        writer = csv.writer(csvFile)\n",
    "        writer.writerows(csvData)\n",
    "    csvFile.close()"
   ]
  },
  {
   "cell_type": "code",
   "execution_count": 7,
   "metadata": {},
   "outputs": [],
   "source": [
    "# Function to Call Create_File()\n",
    "Create_file()"
   ]
  },
  {
   "cell_type": "code",
   "execution_count": 8,
   "metadata": {},
   "outputs": [],
   "source": [
    "# Reading in the file and saving it to an array\n",
    "def Read_file():\n",
    "    csvFilename = 'Singing.csv'\n",
    "    csvRows = []\n",
    "    csvFileObj = open(csvFilename)\n",
    "    readerObj = csv.reader(csvFileObj)\n",
    "    for row in readerObj:\n",
    "        if readerObj.line_num == 1:\n",
    "            continue    # skip first row\n",
    "        csvRows.append(row)\n",
    "    csvFileObj.close()\n",
    "###\n",
    "#    print(\"\\n Debug\")\n",
    "#    print(\"\\n Checking File with Artists and Songs is Correctly read\")\n",
    "#    print(csvRows)      # Debug - Checking File with Artists and Songs is Correctly read\n",
    "\n",
    "#    print(\"\\n Debug\")\n",
    "#    print(\"\\n Checking that an Element of the newly created 2D-array  can be Correctly Identified\")\n",
    "#    print(csvRows[0][0])   # Debug - Checking that an Element of the newly created 2D-array  can be Correctly Identified\n",
    "###\n",
    "    return csvRows"
   ]
  },
  {
   "cell_type": "code",
   "execution_count": 9,
   "metadata": {},
   "outputs": [
    {
     "name": "stdout",
     "output_type": "stream",
     "text": [
      "\n",
      "Debug\n",
      "[['Joy', 'Work is Worship'], ['Plato', 'A good decision is based on knowledge'], ['Shakespeare', 'To be or not to be']]\n"
     ]
    }
   ],
   "source": [
    "# Calling the Function Read_file()\n",
    "CSVrows_returned = Read_file()\n",
    "###\n",
    "print(\"\\nDebug\")\n",
    "print(CSVrows_returned)\n",
    "###"
   ]
  },
  {
   "cell_type": "code",
   "execution_count": 10,
   "metadata": {},
   "outputs": [],
   "source": [
    "def generate_artist(CSVrows_returned):\n",
    "\n",
    "  # Generating a random number between 0 and 2 to pick an artist\n",
    "  r = random.randint(0,2)\n",
    "\n",
    "#  print(\"\\n Debug\")\n",
    "#  print(\"\\n Checking that a Random Number has been Generated\")\n",
    "#  print(\"r = \",r)               # Debug - Checking that a Random Number has been Generated\n",
    "  csvRows = CSVrows_returned\n",
    "\n",
    "\n",
    "#  print(\"\\n Debug\")\n",
    "#  print(csvRows)\n",
    "  \n",
    "#  print(\"\\n Checking that the Correct Artist and Song has been Picked up as a Result of the Random Number Generation\")\n",
    "#  print(csvRows[r][0])  # Debug - Displaying Artist Name and Associated SongName\n",
    "#  print(csvRows[r][1])  # Debug - Displaying Associated SongName\n",
    "\n",
    "#  print(\"\\n\")\n",
    "###\n",
    "  # Displaying the Artist Name\n",
    "  print(\"\\nArtist Name\")\n",
    "  print(csvRows[r][0])\n",
    "  Artist = csvRows[r][0]\n",
    "\n",
    "  print(\"\\nFirst Letter of Song \")\n",
    "  print((csvRows[r][1])[0])\n",
    "  Song = csvRows[r][1]\n",
    "###\n",
    "#  print(\"\\n Debug\")\n",
    "#  print(\"\\n Displaying Name of Song\")\n",
    "#  print(\"\\nSong \",Song)    # Debug - Displaying Name of  Song\n",
    "###\n",
    "  return Artist, Song  "
   ]
  },
  {
   "cell_type": "code",
   "execution_count": 16,
   "metadata": {},
   "outputs": [],
   "source": [
    "# Writing Score, Firstname, Secondname to a file\n",
    "def write_to_file(Fname, Sname, Score):\n",
    "###\n",
    "#    print(\"\\n Debug\")\n",
    "#    print(\"\\nI am in the write to file function\")\n",
    "###\n",
    "    print(\"\\nThe Score is \", Score)\n",
    "    filename = 'Scores.txt' \n",
    "    with open(filename, 'a') as f:\n",
    "        f.write(\"\\n\"+Fname+' '+Sname+' '+str(Score))\n",
    "    print(\"\\n\")"
   ]
  },
  {
   "cell_type": "code",
   "execution_count": 17,
   "metadata": {},
   "outputs": [],
   "source": [
    "# Read File of Scores and Display the First 5 scores\n",
    "\n",
    "\n",
    "\n",
    "def display_names():\n",
    "###\n",
    "#    print(\"I am in display names\")\n",
    "###\n",
    "    with open(\"scores.txt\") as textFile:\n",
    "        lines = [line.split() for line in textFile]\n",
    "\n",
    "###\n",
    "#    print(\"\\nDebug\")\n",
    "#    print(\"\\nReading Contents of scores.txt\")\n",
    "#    print(lines)   # Seeing that all of the scores have been read correctly\n",
    "###\n",
    "    Number_of_Lines = len(lines)\n",
    "\n",
    "### \n",
    "#    print(\"\\nDebug\")\n",
    "#    print(\"\\n Seeing the file read has Correct Number of Lines or Rows\")\n",
    "#    print(Number_of_Lines)      # Seeing the file read has Correct Number of Lines or Rows\n",
    "###\n",
    "    lines = lines[1:Number_of_Lines]\n",
    "    li = sorted(lines,key=lambda x: int(x[2]),reverse=True)\n",
    "\n",
    "###\n",
    "#    print(\"\\nDebug\")\n",
    "#    print(\"\\n Checking that the Lines have been sorted correctly\")\n",
    "#    print(li) # Checking that the Lines have been sorted correctly\n",
    "###\n",
    "    if Number_of_Lines > 5:\n",
    "        Number_of_Lines = 5\n",
    "\n",
    "    count = 1\n",
    "    print(\"The top 5 scores are:-\")\n",
    "    for line in li:\n",
    "###\n",
    "#        print(\"\\nDebug\")\n",
    "#        print(\"\\nChecking Line is being Identified\")\n",
    "        print(line)   # Checking Line is being Identified\n",
    "###\n",
    "        if count == Number_of_Lines:\n",
    "            break\n",
    "        else:\n",
    "            count = count + 1"
   ]
  },
  {
   "cell_type": "code",
   "execution_count": 18,
   "metadata": {},
   "outputs": [],
   "source": [
    "# Two chances to guess the correct song\n",
    "def Guessing_song(Songname_returned,Fname,Sname, Score=0):\n",
    "  Song = Songname_returned\n",
    "  count = 0\n",
    "  while count < 2:\n",
    "      Songname = input(\"Enter name of Song \")\n",
    "###\n",
    "#      print(\"\\nDebug\")\n",
    "#      print(\"\\nChecking Line is being Identified\")\n",
    "#      print(\"\\nSongname \", Songname)  # Debug - seeing Songname is Correct - this is the guess of the user\n",
    "#      print(\"\\nSong \", Song)          # Debug - seeing the Song is Correct - this is the random generation from the computer\n",
    "###\n",
    "      if Songname == str(Song):\n",
    "        break\n",
    "      else:\n",
    "        count = count+1\n",
    "###\n",
    "#        print(\"\\nDebug\")\n",
    "#        print(\"\\nThis is to see that the count variable is correct - this is related to the number of guesses \")\n",
    "#        print(count)   # This is to see that the count variable is correct - this is related to the number of guesses\n",
    "###        \n",
    "  # count = 0 - this took 1 guess for the correct song\n",
    "  # count = 1 - here it took 2 guesses for the correct song\n",
    "  # count = 2 - here the song has not been guessed \n",
    "  \n",
    "  if count==2:          # Song has not been guessed\n",
    "      print(\"\\n\",Fname,' ',Sname,' ','You have Scored ', Score)\n",
    "      write_to_file(Fname, Sname, Score)\n",
    "      display_names()\n",
    "      exit()\n",
    "  elif count == 0:\n",
    "      Score = Score + 3\n",
    "###\n",
    "#      print(\"\\nDebug\")\n",
    "#      print(\"\\nThis is to see that the correct Score is kept track of\")\n",
    "#      print(\"Score \", Score)  # Debug - keeping track of score\n",
    "###\n",
    "  elif count == 1:\n",
    "      Score = Score + 1\n",
    "###\n",
    "#      print(\"\\nDebug\")\n",
    "#      print(\"\\nThis is to see that the correct Score is kept track of\")\n",
    "#      print(\"Score \", Score) # Debug - keeping track of score\n",
    "###    \n",
    "  Artist_returned, Songname_returned = generate_artist(CSVrows_returned)\n",
    "###\n",
    "#  print(\"\\nDebug\")\n",
    "#  print(Artist_returned, Songname_returned)\n",
    "###\n",
    "  Guessing_song(Songname_returned,Fname,Sname,Score)\n"
   ]
  },
  {
   "cell_type": "code",
   "execution_count": null,
   "metadata": {},
   "outputs": [
    {
     "name": "stdout",
     "output_type": "stream",
     "text": [
      "\n",
      "Artist Name\n",
      "Plato\n",
      "\n",
      "First Letter of Song \n",
      "A\n"
     ]
    },
    {
     "name": "stdin",
     "output_type": "stream",
     "text": [
      "Enter name of Song  A\n",
      "Enter name of Song  A good decision is based on knowledge\n"
     ]
    },
    {
     "name": "stdout",
     "output_type": "stream",
     "text": [
      "\n",
      "Artist Name\n",
      "Plato\n",
      "\n",
      "First Letter of Song \n",
      "A\n"
     ]
    },
    {
     "name": "stdin",
     "output_type": "stream",
     "text": [
      "Enter name of Song  A good decision is based on knowledge\n"
     ]
    },
    {
     "name": "stdout",
     "output_type": "stream",
     "text": [
      "\n",
      "Artist Name\n",
      "Joy\n",
      "\n",
      "First Letter of Song \n",
      "W\n"
     ]
    },
    {
     "name": "stdin",
     "output_type": "stream",
     "text": [
      "Enter name of Song  Work is Worship\n"
     ]
    },
    {
     "name": "stdout",
     "output_type": "stream",
     "text": [
      "\n",
      "Artist Name\n",
      "Shakespeare\n",
      "\n",
      "First Letter of Song \n",
      "T\n"
     ]
    },
    {
     "name": "stdin",
     "output_type": "stream",
     "text": [
      "Enter name of Song  t\n",
      "Enter name of Song  e\n"
     ]
    },
    {
     "name": "stdout",
     "output_type": "stream",
     "text": [
      "\n",
      " Jane   Banana   You have Scored  7\n",
      "\n",
      "The Score is  7\n",
      "\n",
      "\n",
      "The top 5 scores are:-\n",
      "['Jane', 'Banana', '7']\n",
      "['Anna', 'Chocolate', '4']\n",
      "['Anna', 'Chocolate', '1']\n",
      "['Anna', 'Chocolate', '1']\n",
      "\n",
      "Artist Name\n",
      "Plato\n",
      "\n",
      "First Letter of Song \n",
      "A\n"
     ]
    },
    {
     "name": "stdin",
     "output_type": "stream",
     "text": [
      "Enter name of Song  w\n",
      "Enter name of Song  j\n"
     ]
    },
    {
     "name": "stdout",
     "output_type": "stream",
     "text": [
      "\n",
      " Jane   Banana   You have Scored  7\n",
      "\n",
      "The Score is  7\n",
      "\n",
      "\n",
      "The top 5 scores are:-\n",
      "['Jane', 'Banana', '7']\n",
      "['Jane', 'Banana', '7']\n",
      "['Anna', 'Chocolate', '4']\n",
      "['Anna', 'Chocolate', '1']\n",
      "['Anna', 'Chocolate', '1']\n",
      "\n",
      "Artist Name\n",
      "Shakespeare\n",
      "\n",
      "First Letter of Song \n",
      "T\n"
     ]
    }
   ],
   "source": [
    "Artist_returned, Songname_returned = generate_artist(CSVrows_returned)\n",
    "###\n",
    "#print(\"\\nDebug\")\n",
    "#print(Artist_returned, Songname_returned)\n",
    "###\n",
    "Guessing_song(Songname_returned, Fname, Sname, Score=0)"
   ]
  },
  {
   "cell_type": "code",
   "execution_count": null,
   "metadata": {},
   "outputs": [],
   "source": []
  }
 ],
 "metadata": {
  "kernelspec": {
   "display_name": "Python 3",
   "language": "python",
   "name": "python3"
  },
  "language_info": {
   "codemirror_mode": {
    "name": "ipython",
    "version": 3
   },
   "file_extension": ".py",
   "mimetype": "text/x-python",
   "name": "python",
   "nbconvert_exporter": "python",
   "pygments_lexer": "ipython3",
   "version": "3.7.4"
  }
 },
 "nbformat": 4,
 "nbformat_minor": 4
}
